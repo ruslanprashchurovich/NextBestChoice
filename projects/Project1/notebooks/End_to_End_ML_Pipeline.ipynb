{
 "cells": [
  {
   "cell_type": "code",
   "execution_count": null,
   "id": "ac49f6cb",
   "metadata": {},
   "outputs": [],
   "source": [
    "# Импортируем все необходимые библиотеки\n",
    "\n",
    "import pandas as pd\n",
    "import numpy as np\n",
    "from sqlalchemy import create_engine\n",
    "from dotenv import load_dotenv\n",
    "from catboost import CatBoostClassifier"
   ]
  },
  {
   "cell_type": "code",
   "execution_count": null,
   "id": "eddefa70",
   "metadata": {},
   "outputs": [],
   "source": [
    "# Загружаем переменные окружения из .env файла\n",
    "load_dotenv()"
   ]
  },
  {
   "cell_type": "code",
   "execution_count": null,
   "id": "316d4846",
   "metadata": {},
   "outputs": [],
   "source": [
    "# Создаем URL для SQLAlchemy\n",
    "SQLALCHEMY_DATABASE_URL = (\n",
    "    f\"postgresql://\"\n",
    "    f\"{os.getenv('POSTGRES_USER')}:{os.getenv('POSTGRES_PASSWORD')}@\"\n",
    "    f\"{os.getenv('POSTGRES_HOST')}:{os.getenv('POSTGRES_PORT')}/\"\n",
    "    f\"{os.getenv('POSTGRES_DATABASE')}\"\n",
    ")\n",
    "engine = create_engine(SQLALCHEMY_DATABASE_URL)"
   ]
  },
  {
   "cell_type": "code",
   "execution_count": null,
   "id": "0e64757b",
   "metadata": {},
   "outputs": [],
   "source": [
    "### Данные по пользователям с нашими признаками\n",
    "\n",
    "user_info = pd.read_sql(\n",
    "    \"\"\"SELECT * FROM users_info_features_ruslan_prashchurovich\"\"\", con=engine\n",
    ")\n",
    "\n",
    "user_info.head()"
   ]
  },
  {
   "cell_type": "code",
   "execution_count": null,
   "id": "5a1620b2",
   "metadata": {},
   "outputs": [],
   "source": [
    "### Посты и топики с нашими признаками\n",
    "\n",
    "posts_info = pd.read_sql(\n",
    "    \"\"\"SELECT * FROM posts_info_features_ruslan_prashchurovich\"\"\", con=engine\n",
    ")\n",
    "\n",
    "posts_info.head()"
   ]
  },
  {
   "cell_type": "code",
   "execution_count": null,
   "id": "4cd6ad21",
   "metadata": {},
   "outputs": [],
   "source": [
    "### Попробуем обучить, скажем, на 5 миллионах строк (таблица слишком большая: более 70 млн строк)\n",
    "\n",
    "feed_data = pd.read_sql(\n",
    "    \"\"\"SELECT * FROM feed_data WHERE action = 'view' LIMIT 500\"\"\", con=engine\n",
    ")\n",
    "\n",
    "feed_data.head()"
   ]
  },
  {
   "cell_type": "code",
   "execution_count": null,
   "id": "f3e6571b",
   "metadata": {},
   "outputs": [],
   "source": [
    "### Воспроизведем датафрейм со всеми новыми фичами\n",
    "df = pd.merge(feed_data, posts_info, on=\"post_id\", how=\"left\")\n",
    "df = pd.merge(df, user_info, on=\"user_id\", how=\"left\")\n",
    "\n",
    "df.head()"
   ]
  },
  {
   "cell_type": "code",
   "execution_count": null,
   "id": "98eac4b7",
   "metadata": {},
   "outputs": [],
   "source": [
    "### А еще научимся выделять признаки из даты\n",
    "df[\"hour\"] = pd.to_datetime(df[\"timestamp\"]).apply(lambda x: x.hour)\n",
    "df[\"month\"] = pd.to_datetime(df[\"timestamp\"]).apply(lambda x: x.month)\n",
    "\n",
    "# Циклическое кодирование\n",
    "df[\"hour_sin\"] = np.sin(2 * np.pi * df[\"hour\"] / 24)\n",
    "df[\"hour_cos\"] = np.cos(2 * np.pi * df[\"hour\"] / 24)\n",
    "df[\"month_sin\"] = np.sin(2 * np.pi * df[\"month\"] / 12)\n",
    "df[\"month_cos\"] = np.cos(2 * np.pi * df[\"month\"] / 12)\n",
    "\n",
    "df.head()"
   ]
  },
  {
   "cell_type": "code",
   "execution_count": null,
   "id": "fc1100dc",
   "metadata": {},
   "outputs": [],
   "source": [
    "### Уберем все ненужные колонки\n",
    "\n",
    "df = df.drop(\n",
    "    columns=[\n",
    "        #    'timestamp',  ### timestamp пока оставим\n",
    "        \"action\",\n",
    "        \"text\",\n",
    "    ],\n",
    "    axis=1,\n",
    ")"
   ]
  },
  {
   "cell_type": "code",
   "execution_count": null,
   "id": "6d718b7f",
   "metadata": {},
   "outputs": [],
   "source": [
    "# Почистим переменные\n",
    "\n",
    "del user_info\n",
    "del posts_info\n",
    "del feed_data\n",
    "\n",
    "import gc\n",
    "\n",
    "gc.collect()"
   ]
  },
  {
   "cell_type": "code",
   "execution_count": null,
   "id": "1f8829a5",
   "metadata": {},
   "outputs": [],
   "source": [
    "### За отсечку возьмем 2021-12-10\n",
    "\n",
    "X_train = df[df.timestamp < \"2021-12-10\"].drop(\n",
    "    columns=[\"timestamp\", \"target\", \"user_id\", \"post_id\"], axis=1\n",
    ")\n",
    "X_test = df[df.timestamp >= \"2021-12-10\"].drop(\n",
    "    columns=[\"timestamp\", \"target\", \"user_id\", \"post_id\"], axis=1\n",
    ")\n",
    "\n",
    "y_train = df[df.timestamp < \"2021-12-10\"][\"target\"]\n",
    "y_test = df[df.timestamp >= \"2021-12-10\"][\"target\"]\n",
    "\n",
    "y_train.shape, y_test.shape"
   ]
  },
  {
   "cell_type": "code",
   "execution_count": null,
   "id": "a02078b4",
   "metadata": {},
   "outputs": [],
   "source": [
    "object_cols = [\n",
    "    \"topic\",\n",
    "    \"TextCluster\",\n",
    "    \"gender\",\n",
    "    \"country\",\n",
    "    \"city\",\n",
    "    \"exp_group\",\n",
    "    \"hour\",\n",
    "    \"month\",\n",
    "    \"favorite_topic\",\n",
    "    \"os\",\n",
    "    \"source\",\n",
    "    \"age_category\",\n",
    "    \"favorite_hour\",\n",
    "]"
   ]
  },
  {
   "cell_type": "code",
   "execution_count": null,
   "id": "14bb3c22",
   "metadata": {},
   "outputs": [],
   "source": [
    "### Теперь обучим катбуст!\n",
    "\n",
    "seed = 0\n",
    "catboost = CatBoostClassifier(\n",
    "    iterations=150,\n",
    "    learning_rate=0.1,\n",
    "    depth=5,\n",
    "    cat_features=object_cols,\n",
    "    verbose=0,\n",
    "    random_state=SEED,\n",
    ")\n",
    "\n",
    "catboost.fit(X_train, y_train, eval_set=(X_test, y_test), verbose=50)"
   ]
  },
  {
   "cell_type": "code",
   "execution_count": null,
   "id": "25929a0c",
   "metadata": {},
   "outputs": [],
   "source": [
    "### Замерим качество работы такой модели\n",
    "### Возьмем ROC-AUC\n",
    "from sklearn.metrics import roc_auc_score\n",
    "\n",
    "print(\n",
    "    f\"Качество на трейне: {roc_auc_score(y_train, catboost.predict_proba(X_train)[:, 1])}\"\n",
    ")\n",
    "print(\n",
    "    f\"Качество на тесте: {roc_auc_score(y_test, catboost.predict_proba(X_test)[:, 1])}\"\n",
    ")"
   ]
  },
  {
   "cell_type": "code",
   "execution_count": null,
   "id": "a78e6481",
   "metadata": {},
   "outputs": [],
   "source": [
    "### Из любопытства посмотрим на feature_importance\n",
    "\n",
    "import seaborn as sns\n",
    "import numpy as np\n",
    "import matplotlib.pyplot as plt\n",
    "\n",
    "\n",
    "def plot_feature_importance(importance, names, model_type):\n",
    "\n",
    "    # Create arrays from feature importance and feature names\n",
    "    feature_importance = np.array(importance)\n",
    "    feature_names = np.array(names)\n",
    "\n",
    "    # Create a DataFrame using a Dictionary\n",
    "    data = {\"feature_names\": feature_names, \"feature_importance\": feature_importance}\n",
    "    fi_df = pd.DataFrame(data)\n",
    "\n",
    "    # Sort the DataFrame in order decreasing feature importance\n",
    "    fi_df.sort_values(by=[\"feature_importance\"], ascending=False, inplace=True)\n",
    "\n",
    "    # Define size of bar plot\n",
    "    plt.figure(figsize=(10, 8))\n",
    "    # Plot Searborn bar chart\n",
    "    sns.barplot(x=fi_df[\"feature_importance\"], y=fi_df[\"feature_names\"])\n",
    "    # Add chart labels\n",
    "    plt.title(model_type + \"FEATURE IMPORTANCE\")\n",
    "    plt.xlabel(\"FEATURE IMPORTANCE\")\n",
    "    plt.ylabel(\"FEATURE NAMES\")\n",
    "\n",
    "\n",
    "plot_feature_importance(catboost.feature_importances_, X_train.columns, \"catboost\")"
   ]
  },
  {
   "cell_type": "code",
   "execution_count": null,
   "id": "efa6fc50",
   "metadata": {},
   "outputs": [],
   "source": [
    "### Сохраним модель\n",
    "catboost.save_model(\"catboost_model\", format=\"cbm\")"
   ]
  }
 ],
 "metadata": {
  "kernelspec": {
   "display_name": "base",
   "language": "python",
   "name": "python3"
  },
  "language_info": {
   "name": "python",
   "version": "3.10.9"
  }
 },
 "nbformat": 4,
 "nbformat_minor": 5
}
