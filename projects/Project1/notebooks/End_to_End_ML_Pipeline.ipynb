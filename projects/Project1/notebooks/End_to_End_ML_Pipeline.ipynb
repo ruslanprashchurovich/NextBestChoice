{
 "cells": [
  {
   "cell_type": "code",
   "execution_count": null,
   "id": "d58f08ca",
   "metadata": {},
   "outputs": [],
   "source": [
    "import pandas as pd\n",
    "import numpy as np\n",
    "from sqlalchemy import create_engine"
   ]
  }
 ],
 "metadata": {
  "language_info": {
   "name": "python"
  }
 },
 "nbformat": 4,
 "nbformat_minor": 5
}
