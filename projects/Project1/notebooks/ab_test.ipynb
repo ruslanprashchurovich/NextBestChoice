{
 "cells": [
  {
   "cell_type": "code",
   "execution_count": null,
   "id": "d82c002e",
   "metadata": {},
   "outputs": [],
   "source": [
    "# Импортируем все необходимые библиотеки\n",
    "\n",
    "import pandas as pd\n",
    "import numpy as np\n",
    "from scipy.stats import binomtest, mannwhitneyu\n",
    "from statsmodels.stats.proportion import proportions_ztest\n",
    "from matplotlib import pyplot as plt\n",
    "from datetime import datetime\n",
    "import re\n",
    "import ast\n",
    "import hashlib\n",
    "import warnings\n",
    "\n",
    "warnings.filterwarnings(\"ignore\")"
   ]
  },
  {
   "cell_type": "markdown",
   "id": "59ca9838",
   "metadata": {},
   "source": [
    "#### Ранее в задании по проекту мы написали код для экспериментирования с моделями в нашем сервисе. Этот код вместе с рекомендациями возвращает группу, в которую попал пользователь.\n",
    "\n",
    "#### Представим, что мы проводили этот эксперимент на пользователях в течение 2 недель. В результаты мы получили сырые данные об эксперименте, которые нам надо обработать и сделать выводы.\n",
    "\n",
    "#### В результате у нас получилось 2 таблички:\n",
    "\n",
    "- **Ответы наши сервиса с рекомендациями** — в них мы знаем, какому пользователю что мы порекомендовали и в какую группу его отнесли. И, конечно, знаем момент времени, когда это произошло.\n",
    "\n",
    "- **Данные о лайках** — в них мы знаем, какой пользователь и какой пост лайкнул, в том числе момент времени, когда это произошло.\n"
   ]
  },
  {
   "cell_type": "code",
   "execution_count": 2,
   "id": "c6a1b038",
   "metadata": {},
   "outputs": [],
   "source": [
    "views = pd.read_csv(\"views.csv\")\n",
    "likes = pd.read_csv(\"likes.csv\")"
   ]
  },
  {
   "cell_type": "code",
   "execution_count": 3,
   "id": "2ce24970",
   "metadata": {},
   "outputs": [
    {
     "data": {
      "text/html": [
       "<div>\n",
       "<style scoped>\n",
       "    .dataframe tbody tr th:only-of-type {\n",
       "        vertical-align: middle;\n",
       "    }\n",
       "\n",
       "    .dataframe tbody tr th {\n",
       "        vertical-align: top;\n",
       "    }\n",
       "\n",
       "    .dataframe thead th {\n",
       "        text-align: right;\n",
       "    }\n",
       "</style>\n",
       "<table border=\"1\" class=\"dataframe\">\n",
       "  <thead>\n",
       "    <tr style=\"text-align: right;\">\n",
       "      <th></th>\n",
       "      <th>user_id</th>\n",
       "      <th>exp_group</th>\n",
       "      <th>recommendations</th>\n",
       "      <th>timestamp</th>\n",
       "    </tr>\n",
       "  </thead>\n",
       "  <tbody>\n",
       "    <tr>\n",
       "      <th>0</th>\n",
       "      <td>128381</td>\n",
       "      <td>control</td>\n",
       "      <td>[3644 4529 4704 5294 4808]</td>\n",
       "      <td>1654030803</td>\n",
       "    </tr>\n",
       "    <tr>\n",
       "      <th>1</th>\n",
       "      <td>146885</td>\n",
       "      <td>test</td>\n",
       "      <td>[1399 1076  797 7015 5942]</td>\n",
       "      <td>1654030811</td>\n",
       "    </tr>\n",
       "    <tr>\n",
       "      <th>2</th>\n",
       "      <td>50948</td>\n",
       "      <td>test</td>\n",
       "      <td>[2315 3037 1861 6567 4093]</td>\n",
       "      <td>1654030825</td>\n",
       "    </tr>\n",
       "    <tr>\n",
       "      <th>3</th>\n",
       "      <td>37703</td>\n",
       "      <td>test</td>\n",
       "      <td>[2842 1949  162 1588 6794]</td>\n",
       "      <td>1654030826</td>\n",
       "    </tr>\n",
       "    <tr>\n",
       "      <th>4</th>\n",
       "      <td>14661</td>\n",
       "      <td>test</td>\n",
       "      <td>[2395 5881 5648 3417  673]</td>\n",
       "      <td>1654030829</td>\n",
       "    </tr>\n",
       "  </tbody>\n",
       "</table>\n",
       "</div>"
      ],
      "text/plain": [
       "   user_id exp_group             recommendations   timestamp\n",
       "0   128381   control  [3644 4529 4704 5294 4808]  1654030803\n",
       "1   146885      test  [1399 1076  797 7015 5942]  1654030811\n",
       "2    50948      test  [2315 3037 1861 6567 4093]  1654030825\n",
       "3    37703      test  [2842 1949  162 1588 6794]  1654030826\n",
       "4    14661      test  [2395 5881 5648 3417  673]  1654030829"
      ]
     },
     "execution_count": 3,
     "metadata": {},
     "output_type": "execute_result"
    }
   ],
   "source": [
    "views.head()"
   ]
  },
  {
   "cell_type": "code",
   "execution_count": 4,
   "id": "54c040f5",
   "metadata": {},
   "outputs": [
    {
     "data": {
      "text/html": [
       "<div>\n",
       "<style scoped>\n",
       "    .dataframe tbody tr th:only-of-type {\n",
       "        vertical-align: middle;\n",
       "    }\n",
       "\n",
       "    .dataframe tbody tr th {\n",
       "        vertical-align: top;\n",
       "    }\n",
       "\n",
       "    .dataframe thead th {\n",
       "        text-align: right;\n",
       "    }\n",
       "</style>\n",
       "<table border=\"1\" class=\"dataframe\">\n",
       "  <thead>\n",
       "    <tr style=\"text-align: right;\">\n",
       "      <th></th>\n",
       "      <th>user_id</th>\n",
       "      <th>post_id</th>\n",
       "      <th>timestamp</th>\n",
       "    </tr>\n",
       "  </thead>\n",
       "  <tbody>\n",
       "    <tr>\n",
       "      <th>0</th>\n",
       "      <td>128381</td>\n",
       "      <td>4704</td>\n",
       "      <td>1654030804</td>\n",
       "    </tr>\n",
       "    <tr>\n",
       "      <th>1</th>\n",
       "      <td>146885</td>\n",
       "      <td>1399</td>\n",
       "      <td>1654030816</td>\n",
       "    </tr>\n",
       "    <tr>\n",
       "      <th>2</th>\n",
       "      <td>50948</td>\n",
       "      <td>2315</td>\n",
       "      <td>1654030828</td>\n",
       "    </tr>\n",
       "    <tr>\n",
       "      <th>3</th>\n",
       "      <td>14661</td>\n",
       "      <td>673</td>\n",
       "      <td>1654030831</td>\n",
       "    </tr>\n",
       "    <tr>\n",
       "      <th>4</th>\n",
       "      <td>37703</td>\n",
       "      <td>1588</td>\n",
       "      <td>1654030833</td>\n",
       "    </tr>\n",
       "  </tbody>\n",
       "</table>\n",
       "</div>"
      ],
      "text/plain": [
       "   user_id  post_id   timestamp\n",
       "0   128381     4704  1654030804\n",
       "1   146885     1399  1654030816\n",
       "2    50948     2315  1654030828\n",
       "3    14661      673  1654030831\n",
       "4    37703     1588  1654030833"
      ]
     },
     "execution_count": 4,
     "metadata": {},
     "output_type": "execute_result"
    }
   ],
   "source": [
    "likes.head()"
   ]
  },
  {
   "cell_type": "code",
   "execution_count": 5,
   "id": "9fbbc5f9",
   "metadata": {},
   "outputs": [
    {
     "data": {
      "text/plain": [
       "((193295, 4), (230176, 3))"
      ]
     },
     "execution_count": 5,
     "metadata": {},
     "output_type": "execute_result"
    }
   ],
   "source": [
    "# Посмотрим на размеры табличек\n",
    "\n",
    "views.shape, likes.shape"
   ]
  },
  {
   "cell_type": "markdown",
   "id": "b0f45e91",
   "metadata": {},
   "source": [
    "#### Начнём с проверки разбиения групп.\n",
    "\n",
    "Во-первых, у нас нет таблички соответствия пользователь-группа, так как мы на самом деле определяли группу пользователя прямо перед подготовкой рекомендаций.\n",
    "\n",
    "В реальности бывают лаги системы (например, если мы запрашиваем группу пользователя, то не всегда можем получить ответ) и это свойство не выполняется. Проверим, нет ли у нас пользователей, которые попали в обе группы. Если их совсем немного, удалим их из обеих выборок (если бы было много, то надо было разбираться, что пошло не так).\n"
   ]
  },
  {
   "cell_type": "code",
   "execution_count": null,
   "id": "71c2dff9",
   "metadata": {},
   "outputs": [
    {
     "data": {
      "text/plain": [
       "10071     25623\n",
       "20633     55788\n",
       "54475    142283\n",
       "57065    148670\n",
       "Name: user_id, dtype: int64"
      ]
     },
     "execution_count": 6,
     "metadata": {},
     "output_type": "execute_result"
    }
   ],
   "source": [
    "check_users = (\n",
    "    views.groupby(by=\"user_id\").aggregate({\"exp_group\": \"nunique\"}).reset_index()\n",
    ")\n",
    "double_users = check_users[check_users[\"exp_group\"] > 1][\"user_id\"]\n",
    "\n",
    "double_users"
   ]
  },
  {
   "cell_type": "markdown",
   "id": "5a9a1e7b",
   "metadata": {},
   "source": [
    "У нас всего 4 пользователя с задублированной группой, поэтому просто удалим их.\n"
   ]
  },
  {
   "cell_type": "code",
   "execution_count": 7,
   "id": "d640bbe4",
   "metadata": {},
   "outputs": [],
   "source": [
    "new_views = views[~views[\"user_id\"].isin(double_users)]\n",
    "new_likes = likes[~likes[\"user_id\"].isin(double_users)]"
   ]
  },
  {
   "cell_type": "markdown",
   "id": "47c997e9",
   "metadata": {},
   "source": [
    "Теперь, когда мы знаем про однозначное соответствие, сделаем табличку пользователь-группа. Проверим, что группы получаются одинакового размера по пользователям. Для этого можно посчитать долю каждой группы, а ещё можно применить критерий для долей (биномиальный тест), чтобы проверить соответствие этой доли ожидаемым 0.5.\n"
   ]
  },
  {
   "cell_type": "code",
   "execution_count": 8,
   "id": "8d33728b",
   "metadata": {},
   "outputs": [
    {
     "data": {
      "text/html": [
       "<div>\n",
       "<style scoped>\n",
       "    .dataframe tbody tr th:only-of-type {\n",
       "        vertical-align: middle;\n",
       "    }\n",
       "\n",
       "    .dataframe tbody tr th {\n",
       "        vertical-align: top;\n",
       "    }\n",
       "\n",
       "    .dataframe thead th {\n",
       "        text-align: right;\n",
       "    }\n",
       "</style>\n",
       "<table border=\"1\" class=\"dataframe\">\n",
       "  <thead>\n",
       "    <tr style=\"text-align: right;\">\n",
       "      <th></th>\n",
       "      <th>user_id</th>\n",
       "      <th>exp_group</th>\n",
       "    </tr>\n",
       "  </thead>\n",
       "  <tbody>\n",
       "    <tr>\n",
       "      <th>0</th>\n",
       "      <td>200</td>\n",
       "      <td>test</td>\n",
       "    </tr>\n",
       "    <tr>\n",
       "      <th>1</th>\n",
       "      <td>201</td>\n",
       "      <td>test</td>\n",
       "    </tr>\n",
       "    <tr>\n",
       "      <th>2</th>\n",
       "      <td>202</td>\n",
       "      <td>test</td>\n",
       "    </tr>\n",
       "    <tr>\n",
       "      <th>3</th>\n",
       "      <td>212</td>\n",
       "      <td>test</td>\n",
       "    </tr>\n",
       "    <tr>\n",
       "      <th>4</th>\n",
       "      <td>213</td>\n",
       "      <td>test</td>\n",
       "    </tr>\n",
       "  </tbody>\n",
       "</table>\n",
       "</div>"
      ],
      "text/plain": [
       "   user_id exp_group\n",
       "0      200      test\n",
       "1      201      test\n",
       "2      202      test\n",
       "3      212      test\n",
       "4      213      test"
      ]
     },
     "execution_count": 8,
     "metadata": {},
     "output_type": "execute_result"
    }
   ],
   "source": [
    "user_group_df = (\n",
    "    new_views[[\"user_id\", \"exp_group\"]]\n",
    "    .sort_values(by=[\"user_id\"], ascending=True)\n",
    "    .drop_duplicates(subset=[\"user_id\", \"exp_group\"])\n",
    "    .reset_index(drop=True)\n",
    ")\n",
    "user_group_df.head()"
   ]
  },
  {
   "cell_type": "code",
   "execution_count": 10,
   "id": "6ec48be9",
   "metadata": {},
   "outputs": [
    {
     "name": "stdout",
     "output_type": "stream",
     "text": [
      "Распределение пользователей:\n",
      "Группа A: 32350 (49.76%)\n",
      "Группа B: 32659 (50.24%)\n"
     ]
    }
   ],
   "source": [
    "group_counts = user_group_df[\"exp_group\"].value_counts()\n",
    "group_props = group_counts / len(user_group_df)\n",
    "\n",
    "print(\"Распределение пользователей:\")\n",
    "print(f\"Группа A: {group_counts['control']} ({group_props['control']:.2%})\")\n",
    "print(f\"Группа B: {group_counts['test']} ({group_props['test']:.2%})\")"
   ]
  },
  {
   "cell_type": "markdown",
   "id": "0179de00",
   "metadata": {},
   "source": [
    "Как и ожидалось, получили разбивку по группам 50/50.\n"
   ]
  },
  {
   "cell_type": "code",
   "execution_count": 12,
   "id": "90b0e8fb",
   "metadata": {},
   "outputs": [
    {
     "data": {
      "image/png": "[encoded data removed]",
      "text/plain": [
       "<Figure size 800x400 with 1 Axes>"
      ]
     },
     "metadata": {},
     "output_type": "display_data"
    },
    {
     "name": "stdout",
     "output_type": "stream",
     "text": [
      "\n",
      "Биномиальный тест:\n",
      "p-value = 0.2271\n",
      "Не отвергаем H0: распределение равномерное (p ≥ 0.05)\n",
      "\n",
      "Соотношение размеров групп: 1.010\n"
     ]
    }
   ],
   "source": [
    "# Визуализация\n",
    "plt.figure(figsize=(8, 4))\n",
    "plt.bar(group_props.index, group_props.values, color=[\"skyblue\", \"salmon\"])\n",
    "plt.axhline(0.5, color=\"red\", linestyle=\"--\", label=\"Идеальное распределение\")\n",
    "plt.ylabel(\"Доля пользователей\")\n",
    "plt.title(\"Распределение пользователей по группам\")\n",
    "plt.legend()\n",
    "plt.show()\n",
    "\n",
    "# Биномиальный тест\n",
    "# H0: p = 0.5 (распределение равномерное)\n",
    "# H1: p ≠ 0.5 (распределение неравномерное)\n",
    "\n",
    "test_result = binomtest(\n",
    "    k=min(group_counts),  # Меньшая группа\n",
    "    n=len(user_group_df),  # Общее число пользователей\n",
    "    p=0.5,  # Ожидаемая доля\n",
    "    alternative=\"two-sided\",\n",
    ")\n",
    "\n",
    "print(\"\\nБиномиальный тест:\")\n",
    "print(f\"p-value = {test_result.pvalue:.4f}\")\n",
    "if test_result.pvalue < 0.05:\n",
    "    print(\"Отвергаем H0: распределение НЕ равномерное (p < 0.05)\")\n",
    "else:\n",
    "    print(\"Не отвергаем H0: распределение равномерное (p ≥ 0.05)\")\n",
    "\n",
    "# Проверка баланса (дополнительно)\n",
    "balance_ratio = max(group_props) / min(group_props)\n",
    "print(f\"\\nСоотношение размеров групп: {balance_ratio:.3f}\")"
   ]
  },
  {
   "cell_type": "code",
   "execution_count": 13,
   "id": "06fbdc92",
   "metadata": {},
   "outputs": [],
   "source": [
    "assert user_group_df[\"user_id\"].nunique() == len(\n",
    "    user_group_df\n",
    "), \"Есть дубликаты user_id\""
   ]
  },
  {
   "cell_type": "markdown",
   "id": "60322b01",
   "metadata": {},
   "source": [
    "Теперь давайте попробуем оценить, а улучшаются ли наши метрики в тестовой группе.\n",
    "\n",
    "Соберем табличку, в которой будут пользователи, попавшие в наш эксперимент (то есть те, для которых мы строили хотя бы одну рекомендацию). Посчитайте, кто из них сколько лайков сделал. Наверняка будут пользователи, которые не сделали ни один лайк.\n",
    "\n",
    "Посчитаем долю пользователей, которая сделала хотя бы один лайк за время эксперимента без разбивки на группы.\n"
   ]
  },
  {
   "cell_type": "code",
   "execution_count": 14,
   "id": "4beb5c2a",
   "metadata": {},
   "outputs": [
    {
     "name": "stdout",
     "output_type": "stream",
     "text": [
      "89.48\n"
     ]
    }
   ],
   "source": [
    "user_stats = (\n",
    "    new_likes[new_likes[\"user_id\"].isin(user_group_df[\"user_id\"])]\n",
    "    .groupby(by=[\"user_id\"])\n",
    "    .aggregate({\"post_id\": \"count\"})\n",
    "    .reset_index()\n",
    ")\n",
    "\n",
    "total = user_group_df[\"user_id\"].nunique()\n",
    "more_than_one = user_stats[user_stats[\"post_id\"] >= 1][\"user_id\"].nunique()\n",
    "\n",
    "result = round(more_than_one / total * 100, 2)\n",
    "\n",
    "print(result)"
   ]
  },
  {
   "cell_type": "code",
   "execution_count": null,
   "id": "8f2327c6",
   "metadata": {},
   "outputs": [
    {
     "data": {
      "image/png": "[encoded data removed]",
      "text/plain": [
       "<Figure size 1000x600 with 1 Axes>"
      ]
     },
     "metadata": {},
     "output_type": "display_data"
    }
   ],
   "source": [
    "fig = plt.figure()\n",
    "fig.set_size_inches(w=10, h=6)\n",
    "\n",
    "plt.hist(x=user_stats[\"post_id\"], bins=30, color=\"blue\")\n",
    "plt.show()"
   ]
  },
  {
   "cell_type": "markdown",
   "id": "b06b7574",
   "metadata": {},
   "source": [
    "### Как и ожидалось, кол-во лайков имеет логнормальное распределение.\n",
    "\n",
    "А теперь давайте оценим, различаются ли число лайков между группами. Выберем подходящий статистический критерий и проверьте две метрики: доля пользователей с хотя бы одним лайком, число лайков на пользователя.\n",
    "\n",
    "Доля пользователей с хотя бы одним лайком проверим с помощью z-теста для пропорций, а число лайков на пользователя с помощью критерий Манна-Уитни-Уилкоксона\n"
   ]
  },
  {
   "cell_type": "code",
   "execution_count": 21,
   "id": "b46cf9f7",
   "metadata": {},
   "outputs": [
    {
     "data": {
      "text/html": [
       "<div>\n",
       "<style scoped>\n",
       "    .dataframe tbody tr th:only-of-type {\n",
       "        vertical-align: middle;\n",
       "    }\n",
       "\n",
       "    .dataframe tbody tr th {\n",
       "        vertical-align: top;\n",
       "    }\n",
       "\n",
       "    .dataframe thead th {\n",
       "        text-align: right;\n",
       "    }\n",
       "</style>\n",
       "<table border=\"1\" class=\"dataframe\">\n",
       "  <thead>\n",
       "    <tr style=\"text-align: right;\">\n",
       "      <th></th>\n",
       "      <th>user_id</th>\n",
       "      <th>exp_group</th>\n",
       "      <th>likes</th>\n",
       "    </tr>\n",
       "  </thead>\n",
       "  <tbody>\n",
       "    <tr>\n",
       "      <th>0</th>\n",
       "      <td>200</td>\n",
       "      <td>test</td>\n",
       "      <td>1</td>\n",
       "    </tr>\n",
       "    <tr>\n",
       "      <th>1</th>\n",
       "      <td>201</td>\n",
       "      <td>test</td>\n",
       "      <td>3</td>\n",
       "    </tr>\n",
       "    <tr>\n",
       "      <th>2</th>\n",
       "      <td>202</td>\n",
       "      <td>test</td>\n",
       "      <td>2</td>\n",
       "    </tr>\n",
       "    <tr>\n",
       "      <th>3</th>\n",
       "      <td>212</td>\n",
       "      <td>test</td>\n",
       "      <td>4</td>\n",
       "    </tr>\n",
       "    <tr>\n",
       "      <th>4</th>\n",
       "      <td>213</td>\n",
       "      <td>test</td>\n",
       "      <td>7</td>\n",
       "    </tr>\n",
       "  </tbody>\n",
       "</table>\n",
       "</div>"
      ],
      "text/plain": [
       "   user_id exp_group  likes\n",
       "0      200      test      1\n",
       "1      201      test      3\n",
       "2      202      test      2\n",
       "3      212      test      4\n",
       "4      213      test      7"
      ]
     },
     "execution_count": 21,
     "metadata": {},
     "output_type": "execute_result"
    }
   ],
   "source": [
    "df_merged = (\n",
    "    pd.merge(left=user_group_df, right=user_stats, how=\"left\", on=\"user_id\")\n",
    "    .rename(columns={\"post_id\": \"likes\"})\n",
    "    .fillna(value=0)\n",
    ")\n",
    "\n",
    "df_merged[\"likes\"] = df_merged[\"likes\"].astype(\"int\")\n",
    "\n",
    "df_merged.head()"
   ]
  },
  {
   "cell_type": "markdown",
   "id": "e98f84e6",
   "metadata": {},
   "source": [
    "Эти две метрики по смыслу довольно похожи и, скорее всего, коррелируют. Так что давайте по ним ответим на вопрос \"стали люди ставить больше лайков в тестовой группе\". Используем уровень значимости 0.05.\n"
   ]
  },
  {
   "cell_type": "code",
   "execution_count": 22,
   "id": "8b6de774",
   "metadata": {},
   "outputs": [
    {
     "name": "stdout",
     "output_type": "stream",
     "text": [
      "Доля в контроле: 0.8913\n",
      "Доля в тесте: 0.8982\n",
      "Z-статистика: -2.8440, p-value: 0.0045\n",
      "Различие долей статистически значимо (p < 0.05)\n"
     ]
    }
   ],
   "source": [
    "n_control = len(df_merged[df_merged[\"exp_group\"] == \"control\"])\n",
    "n_test = len(df_merged[df_merged[\"exp_group\"] == \"test\"])\n",
    "\n",
    "k_control = len(\n",
    "    df_merged[(df_merged[\"exp_group\"] == \"control\") & (df_merged[\"likes\"] >= 1)]\n",
    ")\n",
    "k_test = len(df_merged[(df_merged[\"exp_group\"] == \"test\") & (df_merged[\"likes\"] >= 1)])\n",
    "\n",
    "# Z-тест\n",
    "z_stat, p_value = proportions_ztest(\n",
    "    count=[k_control, k_test], nobs=[n_control, n_test], alternative=\"two-sided\"\n",
    ")\n",
    "\n",
    "print(f\"Доля в контроле: {k_control/n_control:.4f}\")\n",
    "print(f\"Доля в тесте: {k_test/n_test:.4f}\")\n",
    "print(f\"Z-статистика: {z_stat:.4f}, p-value: {p_value:.4f}\")\n",
    "\n",
    "if p_value < 0.05:\n",
    "    print(\"Различие долей статистически значимо (p < 0.05)\")\n",
    "else:\n",
    "    print(\"Различие долей не значимо (p ≥ 0.05)\")"
   ]
  },
  {
   "cell_type": "code",
   "execution_count": 24,
   "id": "0e330b6e",
   "metadata": {},
   "outputs": [
    {
     "name": "stdout",
     "output_type": "stream",
     "text": [
      "U-статистика: 518358073.0000, p-value: 0.0000\n",
      "Различие долей статистически значимо (p < 0.05)\n"
     ]
    }
   ],
   "source": [
    "likes_control = df_merged[df_merged[\"exp_group\"] == \"control\"][\"likes\"]\n",
    "likes_test = df_merged[df_merged[\"exp_group\"] == \"test\"][\"likes\"]\n",
    "\n",
    "u_stat, p_value = mannwhitneyu(likes_control, likes_test)\n",
    "print(f\"U-статистика: {u_stat:.4f}, p-value: {p_value:.4f}\")\n",
    "if p_value < 0.05:\n",
    "    print(\"Различие долей статистически значимо (p < 0.05)\")\n",
    "else:\n",
    "    print(\"Различие долей не значимо (p ≥ 0.05)\")"
   ]
  },
  {
   "cell_type": "code",
   "execution_count": 32,
   "id": "bf26e27d",
   "metadata": {},
   "outputs": [
    {
     "data": {
      "text/html": [
       "<div>\n",
       "<style scoped>\n",
       "    .dataframe tbody tr th:only-of-type {\n",
       "        vertical-align: middle;\n",
       "    }\n",
       "\n",
       "    .dataframe tbody tr th {\n",
       "        vertical-align: top;\n",
       "    }\n",
       "\n",
       "    .dataframe thead th {\n",
       "        text-align: right;\n",
       "    }\n",
       "</style>\n",
       "<table border=\"1\" class=\"dataframe\">\n",
       "  <thead>\n",
       "    <tr style=\"text-align: right;\">\n",
       "      <th></th>\n",
       "      <th>user_id</th>\n",
       "      <th>exp_group</th>\n",
       "      <th>recommendations</th>\n",
       "      <th>timestamp</th>\n",
       "    </tr>\n",
       "  </thead>\n",
       "  <tbody>\n",
       "    <tr>\n",
       "      <th>0</th>\n",
       "      <td>128381</td>\n",
       "      <td>control</td>\n",
       "      <td>[3644 4529 4704 5294 4808]</td>\n",
       "      <td>2022-05-31 21:00:03</td>\n",
       "    </tr>\n",
       "    <tr>\n",
       "      <th>1</th>\n",
       "      <td>146885</td>\n",
       "      <td>test</td>\n",
       "      <td>[1399 1076  797 7015 5942]</td>\n",
       "      <td>2022-05-31 21:00:11</td>\n",
       "    </tr>\n",
       "    <tr>\n",
       "      <th>2</th>\n",
       "      <td>50948</td>\n",
       "      <td>test</td>\n",
       "      <td>[2315 3037 1861 6567 4093]</td>\n",
       "      <td>2022-05-31 21:00:25</td>\n",
       "    </tr>\n",
       "    <tr>\n",
       "      <th>3</th>\n",
       "      <td>37703</td>\n",
       "      <td>test</td>\n",
       "      <td>[2842 1949  162 1588 6794]</td>\n",
       "      <td>2022-05-31 21:00:26</td>\n",
       "    </tr>\n",
       "    <tr>\n",
       "      <th>4</th>\n",
       "      <td>14661</td>\n",
       "      <td>test</td>\n",
       "      <td>[2395 5881 5648 3417  673]</td>\n",
       "      <td>2022-05-31 21:00:29</td>\n",
       "    </tr>\n",
       "  </tbody>\n",
       "</table>\n",
       "</div>"
      ],
      "text/plain": [
       "   user_id exp_group             recommendations           timestamp\n",
       "0   128381   control  [3644 4529 4704 5294 4808] 2022-05-31 21:00:03\n",
       "1   146885      test  [1399 1076  797 7015 5942] 2022-05-31 21:00:11\n",
       "2    50948      test  [2315 3037 1861 6567 4093] 2022-05-31 21:00:25\n",
       "3    37703      test  [2842 1949  162 1588 6794] 2022-05-31 21:00:26\n",
       "4    14661      test  [2395 5881 5648 3417  673] 2022-05-31 21:00:29"
      ]
     },
     "execution_count": 32,
     "metadata": {},
     "output_type": "execute_result"
    }
   ],
   "source": [
    "new_views[\"timestamp\"] = new_views[\"timestamp\"].apply(datetime.utcfromtimestamp)\n",
    "new_views.head()"
   ]
  },
  {
   "cell_type": "code",
   "execution_count": 33,
   "id": "56567f75",
   "metadata": {},
   "outputs": [
    {
     "data": {
      "text/html": [
       "<div>\n",
       "<style scoped>\n",
       "    .dataframe tbody tr th:only-of-type {\n",
       "        vertical-align: middle;\n",
       "    }\n",
       "\n",
       "    .dataframe tbody tr th {\n",
       "        vertical-align: top;\n",
       "    }\n",
       "\n",
       "    .dataframe thead th {\n",
       "        text-align: right;\n",
       "    }\n",
       "</style>\n",
       "<table border=\"1\" class=\"dataframe\">\n",
       "  <thead>\n",
       "    <tr style=\"text-align: right;\">\n",
       "      <th></th>\n",
       "      <th>user_id</th>\n",
       "      <th>post_id</th>\n",
       "      <th>timestamp</th>\n",
       "    </tr>\n",
       "  </thead>\n",
       "  <tbody>\n",
       "    <tr>\n",
       "      <th>0</th>\n",
       "      <td>128381</td>\n",
       "      <td>4704</td>\n",
       "      <td>2022-05-31 21:00:04</td>\n",
       "    </tr>\n",
       "    <tr>\n",
       "      <th>1</th>\n",
       "      <td>146885</td>\n",
       "      <td>1399</td>\n",
       "      <td>2022-05-31 21:00:16</td>\n",
       "    </tr>\n",
       "    <tr>\n",
       "      <th>2</th>\n",
       "      <td>50948</td>\n",
       "      <td>2315</td>\n",
       "      <td>2022-05-31 21:00:28</td>\n",
       "    </tr>\n",
       "    <tr>\n",
       "      <th>3</th>\n",
       "      <td>14661</td>\n",
       "      <td>673</td>\n",
       "      <td>2022-05-31 21:00:31</td>\n",
       "    </tr>\n",
       "    <tr>\n",
       "      <th>4</th>\n",
       "      <td>37703</td>\n",
       "      <td>1588</td>\n",
       "      <td>2022-05-31 21:00:33</td>\n",
       "    </tr>\n",
       "  </tbody>\n",
       "</table>\n",
       "</div>"
      ],
      "text/plain": [
       "   user_id  post_id           timestamp\n",
       "0   128381     4704 2022-05-31 21:00:04\n",
       "1   146885     1399 2022-05-31 21:00:16\n",
       "2    50948     2315 2022-05-31 21:00:28\n",
       "3    14661      673 2022-05-31 21:00:31\n",
       "4    37703     1588 2022-05-31 21:00:33"
      ]
     },
     "execution_count": 33,
     "metadata": {},
     "output_type": "execute_result"
    }
   ],
   "source": [
    "new_likes[\"timestamp\"] = new_likes[\"timestamp\"].apply(datetime.utcfromtimestamp)\n",
    "new_likes.head()"
   ]
  },
  {
   "cell_type": "markdown",
   "id": "281a3639",
   "metadata": {},
   "source": [
    "А теперь давайте сделаем самое сложное — посчитаем hitrate (или долю рекомендаций, в которые пользователи кликнули). Для этого мы хотим собрать в одной табличке информацию о показанных постах и соответствующих кликах.\n"
   ]
  },
  {
   "cell_type": "code",
   "execution_count": 25,
   "id": "1fadc142",
   "metadata": {},
   "outputs": [
    {
     "data": {
      "text/plain": [
       "((193268, 4), (230137, 3))"
      ]
     },
     "execution_count": 25,
     "metadata": {},
     "output_type": "execute_result"
    }
   ],
   "source": [
    "new_views.shape, new_likes.shape"
   ]
  },
  {
   "cell_type": "code",
   "execution_count": 34,
   "id": "549c3f2a",
   "metadata": {},
   "outputs": [
    {
     "name": "stdout",
     "output_type": "stream",
     "text": [
      "(1016889, 6)\n"
     ]
    }
   ],
   "source": [
    "#  1. Объединяем датафреймы с сохранением всех показов (left join)\n",
    "merged = pd.merge(\n",
    "    new_views, new_likes, how=\"left\", on=\"user_id\", suffixes=(\"_view\", \"_like\")\n",
    ")\n",
    "print(merged.shape)"
   ]
  },
  {
   "cell_type": "code",
   "execution_count": 35,
   "id": "313f32cf",
   "metadata": {},
   "outputs": [
    {
     "data": {
      "text/html": [
       "<div>\n",
       "<style scoped>\n",
       "    .dataframe tbody tr th:only-of-type {\n",
       "        vertical-align: middle;\n",
       "    }\n",
       "\n",
       "    .dataframe tbody tr th {\n",
       "        vertical-align: top;\n",
       "    }\n",
       "\n",
       "    .dataframe thead th {\n",
       "        text-align: right;\n",
       "    }\n",
       "</style>\n",
       "<table border=\"1\" class=\"dataframe\">\n",
       "  <thead>\n",
       "    <tr style=\"text-align: right;\">\n",
       "      <th></th>\n",
       "      <th>user_id</th>\n",
       "      <th>exp_group</th>\n",
       "      <th>recommendations</th>\n",
       "      <th>timestamp_view</th>\n",
       "      <th>post_id</th>\n",
       "      <th>timestamp_like</th>\n",
       "    </tr>\n",
       "  </thead>\n",
       "  <tbody>\n",
       "    <tr>\n",
       "      <th>0</th>\n",
       "      <td>128381</td>\n",
       "      <td>control</td>\n",
       "      <td>[3644 4529 4704 5294 4808]</td>\n",
       "      <td>2022-05-31 21:00:03</td>\n",
       "      <td>4704.0</td>\n",
       "      <td>2022-05-31 21:00:04</td>\n",
       "    </tr>\n",
       "    <tr>\n",
       "      <th>1</th>\n",
       "      <td>128381</td>\n",
       "      <td>control</td>\n",
       "      <td>[3644 4529 4704 5294 4808]</td>\n",
       "      <td>2022-05-31 21:00:03</td>\n",
       "      <td>5294.0</td>\n",
       "      <td>2022-05-31 21:00:38</td>\n",
       "    </tr>\n",
       "    <tr>\n",
       "      <th>2</th>\n",
       "      <td>128381</td>\n",
       "      <td>control</td>\n",
       "      <td>[3644 4529 4704 5294 4808]</td>\n",
       "      <td>2022-05-31 21:00:03</td>\n",
       "      <td>3608.0</td>\n",
       "      <td>2022-06-12 15:55:27</td>\n",
       "    </tr>\n",
       "    <tr>\n",
       "      <th>3</th>\n",
       "      <td>128381</td>\n",
       "      <td>control</td>\n",
       "      <td>[3644 4529 4704 5294 4808]</td>\n",
       "      <td>2022-05-31 21:00:03</td>\n",
       "      <td>2542.0</td>\n",
       "      <td>2022-06-12 15:55:42</td>\n",
       "    </tr>\n",
       "    <tr>\n",
       "      <th>4</th>\n",
       "      <td>128381</td>\n",
       "      <td>control</td>\n",
       "      <td>[3644 4529 4704 5294 4808]</td>\n",
       "      <td>2022-05-31 21:00:03</td>\n",
       "      <td>4165.0</td>\n",
       "      <td>2022-06-12 16:53:26</td>\n",
       "    </tr>\n",
       "  </tbody>\n",
       "</table>\n",
       "</div>"
      ],
      "text/plain": [
       "   user_id exp_group             recommendations      timestamp_view  post_id  \\\n",
       "0   128381   control  [3644 4529 4704 5294 4808] 2022-05-31 21:00:03   4704.0   \n",
       "1   128381   control  [3644 4529 4704 5294 4808] 2022-05-31 21:00:03   5294.0   \n",
       "2   128381   control  [3644 4529 4704 5294 4808] 2022-05-31 21:00:03   3608.0   \n",
       "3   128381   control  [3644 4529 4704 5294 4808] 2022-05-31 21:00:03   2542.0   \n",
       "4   128381   control  [3644 4529 4704 5294 4808] 2022-05-31 21:00:03   4165.0   \n",
       "\n",
       "       timestamp_like  \n",
       "0 2022-05-31 21:00:04  \n",
       "1 2022-05-31 21:00:38  \n",
       "2 2022-06-12 15:55:27  \n",
       "3 2022-06-12 15:55:42  \n",
       "4 2022-06-12 16:53:26  "
      ]
     },
     "execution_count": 35,
     "metadata": {},
     "output_type": "execute_result"
    }
   ],
   "source": [
    "merged.head()"
   ]
  },
  {
   "cell_type": "code",
   "execution_count": 36,
   "id": "e4e585df",
   "metadata": {},
   "outputs": [],
   "source": [
    "# Функция для корректного преобразования строки в плоский список чисел\n",
    "def parse_recommendations(s):\n",
    "    # Убираем квадратные скобки и заменяем все нецифровые символы на пробелы\n",
    "    cleaned = re.sub(r\"[^\\d\\s]\", \"\", s.strip(\"[]\"))\n",
    "    # Разделяем по пробелам и конвертируем в int\n",
    "    return [int(x) for x in cleaned.split() if x]\n",
    "\n",
    "\n",
    "# Применяем функцию\n",
    "merged[\"recommendations\"] = merged[\"recommendations\"].apply(parse_recommendations)"
   ]
  },
  {
   "cell_type": "code",
   "execution_count": 37,
   "id": "9b39c839",
   "metadata": {},
   "outputs": [
    {
     "data": {
      "text/html": [
       "<div>\n",
       "<style scoped>\n",
       "    .dataframe tbody tr th:only-of-type {\n",
       "        vertical-align: middle;\n",
       "    }\n",
       "\n",
       "    .dataframe tbody tr th {\n",
       "        vertical-align: top;\n",
       "    }\n",
       "\n",
       "    .dataframe thead th {\n",
       "        text-align: right;\n",
       "    }\n",
       "</style>\n",
       "<table border=\"1\" class=\"dataframe\">\n",
       "  <thead>\n",
       "    <tr style=\"text-align: right;\">\n",
       "      <th></th>\n",
       "      <th>user_id</th>\n",
       "      <th>exp_group</th>\n",
       "      <th>recommendations</th>\n",
       "      <th>timestamp_view</th>\n",
       "      <th>post_id</th>\n",
       "      <th>timestamp_like</th>\n",
       "    </tr>\n",
       "  </thead>\n",
       "  <tbody>\n",
       "    <tr>\n",
       "      <th>0</th>\n",
       "      <td>128381</td>\n",
       "      <td>control</td>\n",
       "      <td>[3644, 4529, 4704, 5294, 4808]</td>\n",
       "      <td>2022-05-31 21:00:03</td>\n",
       "      <td>4704.0</td>\n",
       "      <td>2022-05-31 21:00:04</td>\n",
       "    </tr>\n",
       "    <tr>\n",
       "      <th>1</th>\n",
       "      <td>128381</td>\n",
       "      <td>control</td>\n",
       "      <td>[3644, 4529, 4704, 5294, 4808]</td>\n",
       "      <td>2022-05-31 21:00:03</td>\n",
       "      <td>5294.0</td>\n",
       "      <td>2022-05-31 21:00:38</td>\n",
       "    </tr>\n",
       "    <tr>\n",
       "      <th>2</th>\n",
       "      <td>128381</td>\n",
       "      <td>control</td>\n",
       "      <td>[3644, 4529, 4704, 5294, 4808]</td>\n",
       "      <td>2022-05-31 21:00:03</td>\n",
       "      <td>3608.0</td>\n",
       "      <td>2022-06-12 15:55:27</td>\n",
       "    </tr>\n",
       "    <tr>\n",
       "      <th>3</th>\n",
       "      <td>128381</td>\n",
       "      <td>control</td>\n",
       "      <td>[3644, 4529, 4704, 5294, 4808]</td>\n",
       "      <td>2022-05-31 21:00:03</td>\n",
       "      <td>2542.0</td>\n",
       "      <td>2022-06-12 15:55:42</td>\n",
       "    </tr>\n",
       "    <tr>\n",
       "      <th>4</th>\n",
       "      <td>128381</td>\n",
       "      <td>control</td>\n",
       "      <td>[3644, 4529, 4704, 5294, 4808]</td>\n",
       "      <td>2022-05-31 21:00:03</td>\n",
       "      <td>4165.0</td>\n",
       "      <td>2022-06-12 16:53:26</td>\n",
       "    </tr>\n",
       "  </tbody>\n",
       "</table>\n",
       "</div>"
      ],
      "text/plain": [
       "   user_id exp_group                 recommendations      timestamp_view  \\\n",
       "0   128381   control  [3644, 4529, 4704, 5294, 4808] 2022-05-31 21:00:03   \n",
       "1   128381   control  [3644, 4529, 4704, 5294, 4808] 2022-05-31 21:00:03   \n",
       "2   128381   control  [3644, 4529, 4704, 5294, 4808] 2022-05-31 21:00:03   \n",
       "3   128381   control  [3644, 4529, 4704, 5294, 4808] 2022-05-31 21:00:03   \n",
       "4   128381   control  [3644, 4529, 4704, 5294, 4808] 2022-05-31 21:00:03   \n",
       "\n",
       "   post_id      timestamp_like  \n",
       "0   4704.0 2022-05-31 21:00:04  \n",
       "1   5294.0 2022-05-31 21:00:38  \n",
       "2   3608.0 2022-06-12 15:55:27  \n",
       "3   2542.0 2022-06-12 15:55:42  \n",
       "4   4165.0 2022-06-12 16:53:26  "
      ]
     },
     "execution_count": 37,
     "metadata": {},
     "output_type": "execute_result"
    }
   ],
   "source": [
    "merged.head()"
   ]
  },
  {
   "cell_type": "code",
   "execution_count": 38,
   "id": "100af7cf",
   "metadata": {},
   "outputs": [
    {
     "data": {
      "text/html": [
       "<div>\n",
       "<style scoped>\n",
       "    .dataframe tbody tr th:only-of-type {\n",
       "        vertical-align: middle;\n",
       "    }\n",
       "\n",
       "    .dataframe tbody tr th {\n",
       "        vertical-align: top;\n",
       "    }\n",
       "\n",
       "    .dataframe thead th {\n",
       "        text-align: right;\n",
       "    }\n",
       "</style>\n",
       "<table border=\"1\" class=\"dataframe\">\n",
       "  <thead>\n",
       "    <tr style=\"text-align: right;\">\n",
       "      <th></th>\n",
       "      <th>user_id</th>\n",
       "      <th>exp_group</th>\n",
       "      <th>recommendations</th>\n",
       "      <th>timestamp_view</th>\n",
       "      <th>post_id</th>\n",
       "      <th>timestamp_like</th>\n",
       "    </tr>\n",
       "  </thead>\n",
       "  <tbody>\n",
       "    <tr>\n",
       "      <th>0</th>\n",
       "      <td>128381</td>\n",
       "      <td>control</td>\n",
       "      <td>3644</td>\n",
       "      <td>2022-05-31 21:00:03</td>\n",
       "      <td>4704.0</td>\n",
       "      <td>2022-05-31 21:00:04</td>\n",
       "    </tr>\n",
       "    <tr>\n",
       "      <th>0</th>\n",
       "      <td>128381</td>\n",
       "      <td>control</td>\n",
       "      <td>4529</td>\n",
       "      <td>2022-05-31 21:00:03</td>\n",
       "      <td>4704.0</td>\n",
       "      <td>2022-05-31 21:00:04</td>\n",
       "    </tr>\n",
       "    <tr>\n",
       "      <th>0</th>\n",
       "      <td>128381</td>\n",
       "      <td>control</td>\n",
       "      <td>4704</td>\n",
       "      <td>2022-05-31 21:00:03</td>\n",
       "      <td>4704.0</td>\n",
       "      <td>2022-05-31 21:00:04</td>\n",
       "    </tr>\n",
       "    <tr>\n",
       "      <th>0</th>\n",
       "      <td>128381</td>\n",
       "      <td>control</td>\n",
       "      <td>5294</td>\n",
       "      <td>2022-05-31 21:00:03</td>\n",
       "      <td>4704.0</td>\n",
       "      <td>2022-05-31 21:00:04</td>\n",
       "    </tr>\n",
       "    <tr>\n",
       "      <th>0</th>\n",
       "      <td>128381</td>\n",
       "      <td>control</td>\n",
       "      <td>4808</td>\n",
       "      <td>2022-05-31 21:00:03</td>\n",
       "      <td>4704.0</td>\n",
       "      <td>2022-05-31 21:00:04</td>\n",
       "    </tr>\n",
       "  </tbody>\n",
       "</table>\n",
       "</div>"
      ],
      "text/plain": [
       "   user_id exp_group recommendations      timestamp_view  post_id  \\\n",
       "0   128381   control            3644 2022-05-31 21:00:03   4704.0   \n",
       "0   128381   control            4529 2022-05-31 21:00:03   4704.0   \n",
       "0   128381   control            4704 2022-05-31 21:00:03   4704.0   \n",
       "0   128381   control            5294 2022-05-31 21:00:03   4704.0   \n",
       "0   128381   control            4808 2022-05-31 21:00:03   4704.0   \n",
       "\n",
       "       timestamp_like  \n",
       "0 2022-05-31 21:00:04  \n",
       "0 2022-05-31 21:00:04  \n",
       "0 2022-05-31 21:00:04  \n",
       "0 2022-05-31 21:00:04  \n",
       "0 2022-05-31 21:00:04  "
      ]
     },
     "execution_count": 38,
     "metadata": {},
     "output_type": "execute_result"
    }
   ],
   "source": [
    "# 3. Разбиваем рекомендации на отдельные строки\n",
    "exploded = merged.explode(\"recommendations\")\n",
    "exploded.head()"
   ]
  },
  {
   "cell_type": "code",
   "execution_count": 39,
   "id": "6f394c41",
   "metadata": {},
   "outputs": [
    {
     "data": {
      "text/html": [
       "<div>\n",
       "<style scoped>\n",
       "    .dataframe tbody tr th:only-of-type {\n",
       "        vertical-align: middle;\n",
       "    }\n",
       "\n",
       "    .dataframe tbody tr th {\n",
       "        vertical-align: top;\n",
       "    }\n",
       "\n",
       "    .dataframe thead th {\n",
       "        text-align: right;\n",
       "    }\n",
       "</style>\n",
       "<table border=\"1\" class=\"dataframe\">\n",
       "  <thead>\n",
       "    <tr style=\"text-align: right;\">\n",
       "      <th></th>\n",
       "      <th>user_id</th>\n",
       "      <th>exp_group</th>\n",
       "      <th>recommendations</th>\n",
       "      <th>timestamp_view</th>\n",
       "      <th>post_id</th>\n",
       "      <th>timestamp_like</th>\n",
       "    </tr>\n",
       "  </thead>\n",
       "  <tbody>\n",
       "    <tr>\n",
       "      <th>0</th>\n",
       "      <td>128381</td>\n",
       "      <td>control</td>\n",
       "      <td>3644</td>\n",
       "      <td>2022-05-31 21:00:03</td>\n",
       "      <td>4704</td>\n",
       "      <td>2022-05-31 21:00:04</td>\n",
       "    </tr>\n",
       "    <tr>\n",
       "      <th>0</th>\n",
       "      <td>128381</td>\n",
       "      <td>control</td>\n",
       "      <td>4529</td>\n",
       "      <td>2022-05-31 21:00:03</td>\n",
       "      <td>4704</td>\n",
       "      <td>2022-05-31 21:00:04</td>\n",
       "    </tr>\n",
       "    <tr>\n",
       "      <th>0</th>\n",
       "      <td>128381</td>\n",
       "      <td>control</td>\n",
       "      <td>4704</td>\n",
       "      <td>2022-05-31 21:00:03</td>\n",
       "      <td>4704</td>\n",
       "      <td>2022-05-31 21:00:04</td>\n",
       "    </tr>\n",
       "    <tr>\n",
       "      <th>0</th>\n",
       "      <td>128381</td>\n",
       "      <td>control</td>\n",
       "      <td>5294</td>\n",
       "      <td>2022-05-31 21:00:03</td>\n",
       "      <td>4704</td>\n",
       "      <td>2022-05-31 21:00:04</td>\n",
       "    </tr>\n",
       "    <tr>\n",
       "      <th>0</th>\n",
       "      <td>128381</td>\n",
       "      <td>control</td>\n",
       "      <td>4808</td>\n",
       "      <td>2022-05-31 21:00:03</td>\n",
       "      <td>4704</td>\n",
       "      <td>2022-05-31 21:00:04</td>\n",
       "    </tr>\n",
       "  </tbody>\n",
       "</table>\n",
       "</div>"
      ],
      "text/plain": [
       "   user_id exp_group  recommendations      timestamp_view  post_id  \\\n",
       "0   128381   control             3644 2022-05-31 21:00:03     4704   \n",
       "0   128381   control             4529 2022-05-31 21:00:03     4704   \n",
       "0   128381   control             4704 2022-05-31 21:00:03     4704   \n",
       "0   128381   control             5294 2022-05-31 21:00:03     4704   \n",
       "0   128381   control             4808 2022-05-31 21:00:03     4704   \n",
       "\n",
       "       timestamp_like  \n",
       "0 2022-05-31 21:00:04  \n",
       "0 2022-05-31 21:00:04  \n",
       "0 2022-05-31 21:00:04  \n",
       "0 2022-05-31 21:00:04  \n",
       "0 2022-05-31 21:00:04  "
      ]
     },
     "execution_count": 39,
     "metadata": {},
     "output_type": "execute_result"
    }
   ],
   "source": [
    "# 4. Преобразуем post_id в int для сравнения\n",
    "exploded[\"post_id\"] = (\n",
    "    pd.to_numeric(exploded[\"post_id\"], errors=\"coerce\").fillna(-1).astype(int)\n",
    ")\n",
    "exploded[\"recommendations\"] = exploded[\"recommendations\"].astype(int)\n",
    "exploded.head()"
   ]
  },
  {
   "cell_type": "code",
   "execution_count": 40,
   "id": "1d12eb71",
   "metadata": {},
   "outputs": [
    {
     "data": {
      "text/html": [
       "<div>\n",
       "<style scoped>\n",
       "    .dataframe tbody tr th:only-of-type {\n",
       "        vertical-align: middle;\n",
       "    }\n",
       "\n",
       "    .dataframe tbody tr th {\n",
       "        vertical-align: top;\n",
       "    }\n",
       "\n",
       "    .dataframe thead th {\n",
       "        text-align: right;\n",
       "    }\n",
       "</style>\n",
       "<table border=\"1\" class=\"dataframe\">\n",
       "  <thead>\n",
       "    <tr style=\"text-align: right;\">\n",
       "      <th></th>\n",
       "      <th>user_id</th>\n",
       "      <th>exp_group</th>\n",
       "      <th>recommendations</th>\n",
       "      <th>timestamp_view</th>\n",
       "      <th>post_id</th>\n",
       "      <th>timestamp_like</th>\n",
       "      <th>time_diff</th>\n",
       "    </tr>\n",
       "  </thead>\n",
       "  <tbody>\n",
       "    <tr>\n",
       "      <th>0</th>\n",
       "      <td>128381</td>\n",
       "      <td>control</td>\n",
       "      <td>3644</td>\n",
       "      <td>2022-05-31 21:00:03</td>\n",
       "      <td>4704</td>\n",
       "      <td>2022-05-31 21:00:04</td>\n",
       "      <td>1.0</td>\n",
       "    </tr>\n",
       "    <tr>\n",
       "      <th>0</th>\n",
       "      <td>128381</td>\n",
       "      <td>control</td>\n",
       "      <td>4529</td>\n",
       "      <td>2022-05-31 21:00:03</td>\n",
       "      <td>4704</td>\n",
       "      <td>2022-05-31 21:00:04</td>\n",
       "      <td>1.0</td>\n",
       "    </tr>\n",
       "    <tr>\n",
       "      <th>0</th>\n",
       "      <td>128381</td>\n",
       "      <td>control</td>\n",
       "      <td>4704</td>\n",
       "      <td>2022-05-31 21:00:03</td>\n",
       "      <td>4704</td>\n",
       "      <td>2022-05-31 21:00:04</td>\n",
       "      <td>1.0</td>\n",
       "    </tr>\n",
       "    <tr>\n",
       "      <th>0</th>\n",
       "      <td>128381</td>\n",
       "      <td>control</td>\n",
       "      <td>5294</td>\n",
       "      <td>2022-05-31 21:00:03</td>\n",
       "      <td>4704</td>\n",
       "      <td>2022-05-31 21:00:04</td>\n",
       "      <td>1.0</td>\n",
       "    </tr>\n",
       "    <tr>\n",
       "      <th>0</th>\n",
       "      <td>128381</td>\n",
       "      <td>control</td>\n",
       "      <td>4808</td>\n",
       "      <td>2022-05-31 21:00:03</td>\n",
       "      <td>4704</td>\n",
       "      <td>2022-05-31 21:00:04</td>\n",
       "      <td>1.0</td>\n",
       "    </tr>\n",
       "  </tbody>\n",
       "</table>\n",
       "</div>"
      ],
      "text/plain": [
       "   user_id exp_group  recommendations      timestamp_view  post_id  \\\n",
       "0   128381   control             3644 2022-05-31 21:00:03     4704   \n",
       "0   128381   control             4529 2022-05-31 21:00:03     4704   \n",
       "0   128381   control             4704 2022-05-31 21:00:03     4704   \n",
       "0   128381   control             5294 2022-05-31 21:00:03     4704   \n",
       "0   128381   control             4808 2022-05-31 21:00:03     4704   \n",
       "\n",
       "       timestamp_like  time_diff  \n",
       "0 2022-05-31 21:00:04        1.0  \n",
       "0 2022-05-31 21:00:04        1.0  \n",
       "0 2022-05-31 21:00:04        1.0  \n",
       "0 2022-05-31 21:00:04        1.0  \n",
       "0 2022-05-31 21:00:04        1.0  "
      ]
     },
     "execution_count": 40,
     "metadata": {},
     "output_type": "execute_result"
    }
   ],
   "source": [
    "# 5. Вычисляем разницу времени (в секундах) и проверяем условия\n",
    "exploded[\"time_diff\"] = (\n",
    "    exploded[\"timestamp_like\"] - exploded[\"timestamp_view\"]\n",
    ").dt.total_seconds()\n",
    "exploded.head()"
   ]
  },
  {
   "cell_type": "code",
   "execution_count": 41,
   "id": "e62e67bf",
   "metadata": {},
   "outputs": [
    {
     "data": {
      "text/html": [
       "<div>\n",
       "<style scoped>\n",
       "    .dataframe tbody tr th:only-of-type {\n",
       "        vertical-align: middle;\n",
       "    }\n",
       "\n",
       "    .dataframe tbody tr th {\n",
       "        vertical-align: top;\n",
       "    }\n",
       "\n",
       "    .dataframe thead th {\n",
       "        text-align: right;\n",
       "    }\n",
       "</style>\n",
       "<table border=\"1\" class=\"dataframe\">\n",
       "  <thead>\n",
       "    <tr style=\"text-align: right;\">\n",
       "      <th></th>\n",
       "      <th>user_id</th>\n",
       "      <th>exp_group</th>\n",
       "      <th>recommendations</th>\n",
       "      <th>timestamp_view</th>\n",
       "      <th>post_id</th>\n",
       "      <th>timestamp_like</th>\n",
       "      <th>time_diff</th>\n",
       "      <th>is_valid</th>\n",
       "    </tr>\n",
       "  </thead>\n",
       "  <tbody>\n",
       "    <tr>\n",
       "      <th>0</th>\n",
       "      <td>128381</td>\n",
       "      <td>control</td>\n",
       "      <td>3644</td>\n",
       "      <td>2022-05-31 21:00:03</td>\n",
       "      <td>4704</td>\n",
       "      <td>2022-05-31 21:00:04</td>\n",
       "      <td>1.0</td>\n",
       "      <td>False</td>\n",
       "    </tr>\n",
       "    <tr>\n",
       "      <th>0</th>\n",
       "      <td>128381</td>\n",
       "      <td>control</td>\n",
       "      <td>4529</td>\n",
       "      <td>2022-05-31 21:00:03</td>\n",
       "      <td>4704</td>\n",
       "      <td>2022-05-31 21:00:04</td>\n",
       "      <td>1.0</td>\n",
       "      <td>False</td>\n",
       "    </tr>\n",
       "    <tr>\n",
       "      <th>0</th>\n",
       "      <td>128381</td>\n",
       "      <td>control</td>\n",
       "      <td>4704</td>\n",
       "      <td>2022-05-31 21:00:03</td>\n",
       "      <td>4704</td>\n",
       "      <td>2022-05-31 21:00:04</td>\n",
       "      <td>1.0</td>\n",
       "      <td>True</td>\n",
       "    </tr>\n",
       "    <tr>\n",
       "      <th>0</th>\n",
       "      <td>128381</td>\n",
       "      <td>control</td>\n",
       "      <td>5294</td>\n",
       "      <td>2022-05-31 21:00:03</td>\n",
       "      <td>4704</td>\n",
       "      <td>2022-05-31 21:00:04</td>\n",
       "      <td>1.0</td>\n",
       "      <td>False</td>\n",
       "    </tr>\n",
       "    <tr>\n",
       "      <th>0</th>\n",
       "      <td>128381</td>\n",
       "      <td>control</td>\n",
       "      <td>4808</td>\n",
       "      <td>2022-05-31 21:00:03</td>\n",
       "      <td>4704</td>\n",
       "      <td>2022-05-31 21:00:04</td>\n",
       "      <td>1.0</td>\n",
       "      <td>False</td>\n",
       "    </tr>\n",
       "  </tbody>\n",
       "</table>\n",
       "</div>"
      ],
      "text/plain": [
       "   user_id exp_group  recommendations      timestamp_view  post_id  \\\n",
       "0   128381   control             3644 2022-05-31 21:00:03     4704   \n",
       "0   128381   control             4529 2022-05-31 21:00:03     4704   \n",
       "0   128381   control             4704 2022-05-31 21:00:03     4704   \n",
       "0   128381   control             5294 2022-05-31 21:00:03     4704   \n",
       "0   128381   control             4808 2022-05-31 21:00:03     4704   \n",
       "\n",
       "       timestamp_like  time_diff  is_valid  \n",
       "0 2022-05-31 21:00:04        1.0     False  \n",
       "0 2022-05-31 21:00:04        1.0     False  \n",
       "0 2022-05-31 21:00:04        1.0      True  \n",
       "0 2022-05-31 21:00:04        1.0     False  \n",
       "0 2022-05-31 21:00:04        1.0     False  "
      ]
     },
     "execution_count": 41,
     "metadata": {},
     "output_type": "execute_result"
    }
   ],
   "source": [
    "# 6. Помечаем валидные взаимодействия\n",
    "exploded[\"is_valid\"] = (\n",
    "    (exploded[\"post_id\"] != -1)\n",
    "    & (exploded[\"recommendations\"] == exploded[\"post_id\"])\n",
    "    & (exploded[\"time_diff\"] >= 0)\n",
    "    & (exploded[\"time_diff\"] <= 3600)\n",
    ")\n",
    "exploded.head()"
   ]
  },
  {
   "cell_type": "code",
   "execution_count": null,
   "id": "15b974a0",
   "metadata": {},
   "outputs": [],
   "source": [
    "exploded.groupby([\"user_id\", \"timestamp_view\", \"exp_group\"])[\"is_valid\"].any().mean()"
   ]
  },
  {
   "cell_type": "code",
   "execution_count": 42,
   "id": "dc1348b3",
   "metadata": {},
   "outputs": [
    {
     "name": "stdout",
     "output_type": "stream",
     "text": [
      "Hitrate по группам:\n",
      "exp_group\n",
      "control    0.706651\n",
      "test       0.719829\n",
      "Name: is_valid, dtype: float64\n"
     ]
    }
   ],
   "source": [
    "# 7. Считаем hitrate по группам\n",
    "hitrate = (\n",
    "    exploded.groupby([\"user_id\", \"timestamp_view\", \"exp_group\"])[\"is_valid\"]\n",
    "    .any()\n",
    "    .groupby(\"exp_group\")\n",
    "    .mean()\n",
    ")\n",
    "\n",
    "print(\"Hitrate по группам:\")\n",
    "print(hitrate)"
   ]
  },
  {
   "cell_type": "code",
   "execution_count": 43,
   "id": "46047ede",
   "metadata": {},
   "outputs": [
    {
     "name": "stdout",
     "output_type": "stream",
     "text": [
      "Hitrate: \n",
      "0.7132582734855227\n"
     ]
    }
   ],
   "source": [
    "# 8. Считаем hitrate в целом\n",
    "hitrate = (\n",
    "    exploded.groupby([\"user_id\", \"timestamp_view\", \"exp_group\"])[\"is_valid\"]\n",
    "    .any()\n",
    "    .mean()\n",
    ")\n",
    "\n",
    "print(\"Hitrate: \")\n",
    "print(hitrate)"
   ]
  },
  {
   "cell_type": "markdown",
   "id": "b3ffdf1c",
   "metadata": {},
   "source": [
    "А теперь давайте оценим различие между группами и значимость. z-критерий для долей мы здесь не можем применять, так как у нас в каждой выборке один и тот же пользователь может встречаться несколько раз. Давайте применим бакетный подход (то есть перейдём к бакетам и по ним оценим значимость), чтобы посчитать групповой hitrate (или CTR) — доля hitrate по группе/бакету. Используем 100 бакетов. Уровень значимости останется тем же на уровне 0.05.\n"
   ]
  },
  {
   "cell_type": "code",
   "execution_count": 44,
   "id": "5c95e693",
   "metadata": {},
   "outputs": [
    {
     "data": {
      "text/html": [
       "<div>\n",
       "<style scoped>\n",
       "    .dataframe tbody tr th:only-of-type {\n",
       "        vertical-align: middle;\n",
       "    }\n",
       "\n",
       "    .dataframe tbody tr th {\n",
       "        vertical-align: top;\n",
       "    }\n",
       "\n",
       "    .dataframe thead th {\n",
       "        text-align: right;\n",
       "    }\n",
       "</style>\n",
       "<table border=\"1\" class=\"dataframe\">\n",
       "  <thead>\n",
       "    <tr style=\"text-align: right;\">\n",
       "      <th></th>\n",
       "      <th>user_id</th>\n",
       "      <th>exp_group</th>\n",
       "      <th>recommendations</th>\n",
       "      <th>timestamp_view</th>\n",
       "      <th>post_id</th>\n",
       "      <th>timestamp_like</th>\n",
       "      <th>time_diff</th>\n",
       "      <th>is_valid</th>\n",
       "    </tr>\n",
       "  </thead>\n",
       "  <tbody>\n",
       "    <tr>\n",
       "      <th>0</th>\n",
       "      <td>128381</td>\n",
       "      <td>control</td>\n",
       "      <td>3644</td>\n",
       "      <td>2022-05-31 21:00:03</td>\n",
       "      <td>4704</td>\n",
       "      <td>2022-05-31 21:00:04</td>\n",
       "      <td>1.0</td>\n",
       "      <td>False</td>\n",
       "    </tr>\n",
       "    <tr>\n",
       "      <th>0</th>\n",
       "      <td>128381</td>\n",
       "      <td>control</td>\n",
       "      <td>4529</td>\n",
       "      <td>2022-05-31 21:00:03</td>\n",
       "      <td>4704</td>\n",
       "      <td>2022-05-31 21:00:04</td>\n",
       "      <td>1.0</td>\n",
       "      <td>False</td>\n",
       "    </tr>\n",
       "    <tr>\n",
       "      <th>0</th>\n",
       "      <td>128381</td>\n",
       "      <td>control</td>\n",
       "      <td>4704</td>\n",
       "      <td>2022-05-31 21:00:03</td>\n",
       "      <td>4704</td>\n",
       "      <td>2022-05-31 21:00:04</td>\n",
       "      <td>1.0</td>\n",
       "      <td>True</td>\n",
       "    </tr>\n",
       "    <tr>\n",
       "      <th>0</th>\n",
       "      <td>128381</td>\n",
       "      <td>control</td>\n",
       "      <td>5294</td>\n",
       "      <td>2022-05-31 21:00:03</td>\n",
       "      <td>4704</td>\n",
       "      <td>2022-05-31 21:00:04</td>\n",
       "      <td>1.0</td>\n",
       "      <td>False</td>\n",
       "    </tr>\n",
       "    <tr>\n",
       "      <th>0</th>\n",
       "      <td>128381</td>\n",
       "      <td>control</td>\n",
       "      <td>4808</td>\n",
       "      <td>2022-05-31 21:00:03</td>\n",
       "      <td>4704</td>\n",
       "      <td>2022-05-31 21:00:04</td>\n",
       "      <td>1.0</td>\n",
       "      <td>False</td>\n",
       "    </tr>\n",
       "  </tbody>\n",
       "</table>\n",
       "</div>"
      ],
      "text/plain": [
       "   user_id exp_group  recommendations      timestamp_view  post_id  \\\n",
       "0   128381   control             3644 2022-05-31 21:00:03     4704   \n",
       "0   128381   control             4529 2022-05-31 21:00:03     4704   \n",
       "0   128381   control             4704 2022-05-31 21:00:03     4704   \n",
       "0   128381   control             5294 2022-05-31 21:00:03     4704   \n",
       "0   128381   control             4808 2022-05-31 21:00:03     4704   \n",
       "\n",
       "       timestamp_like  time_diff  is_valid  \n",
       "0 2022-05-31 21:00:04        1.0     False  \n",
       "0 2022-05-31 21:00:04        1.0     False  \n",
       "0 2022-05-31 21:00:04        1.0      True  \n",
       "0 2022-05-31 21:00:04        1.0     False  \n",
       "0 2022-05-31 21:00:04        1.0     False  "
      ]
     },
     "execution_count": 44,
     "metadata": {},
     "output_type": "execute_result"
    }
   ],
   "source": [
    "exploded.head()"
   ]
  },
  {
   "cell_type": "code",
   "execution_count": 45,
   "id": "a935c093",
   "metadata": {},
   "outputs": [
    {
     "data": {
      "text/html": [
       "<div>\n",
       "<style scoped>\n",
       "    .dataframe tbody tr th:only-of-type {\n",
       "        vertical-align: middle;\n",
       "    }\n",
       "\n",
       "    .dataframe tbody tr th {\n",
       "        vertical-align: top;\n",
       "    }\n",
       "\n",
       "    .dataframe thead th {\n",
       "        text-align: right;\n",
       "    }\n",
       "</style>\n",
       "<table border=\"1\" class=\"dataframe\">\n",
       "  <thead>\n",
       "    <tr style=\"text-align: right;\">\n",
       "      <th></th>\n",
       "      <th>user_id</th>\n",
       "      <th>exp_group</th>\n",
       "      <th>recommendations</th>\n",
       "      <th>timestamp_view</th>\n",
       "      <th>post_id</th>\n",
       "      <th>timestamp_like</th>\n",
       "      <th>time_diff</th>\n",
       "      <th>is_valid</th>\n",
       "      <th>bucket</th>\n",
       "    </tr>\n",
       "  </thead>\n",
       "  <tbody>\n",
       "    <tr>\n",
       "      <th>0</th>\n",
       "      <td>128381</td>\n",
       "      <td>control</td>\n",
       "      <td>3644</td>\n",
       "      <td>2022-05-31 21:00:03</td>\n",
       "      <td>4704</td>\n",
       "      <td>2022-05-31 21:00:04</td>\n",
       "      <td>1.0</td>\n",
       "      <td>False</td>\n",
       "      <td>32</td>\n",
       "    </tr>\n",
       "    <tr>\n",
       "      <th>0</th>\n",
       "      <td>128381</td>\n",
       "      <td>control</td>\n",
       "      <td>4529</td>\n",
       "      <td>2022-05-31 21:00:03</td>\n",
       "      <td>4704</td>\n",
       "      <td>2022-05-31 21:00:04</td>\n",
       "      <td>1.0</td>\n",
       "      <td>False</td>\n",
       "      <td>32</td>\n",
       "    </tr>\n",
       "    <tr>\n",
       "      <th>0</th>\n",
       "      <td>128381</td>\n",
       "      <td>control</td>\n",
       "      <td>4704</td>\n",
       "      <td>2022-05-31 21:00:03</td>\n",
       "      <td>4704</td>\n",
       "      <td>2022-05-31 21:00:04</td>\n",
       "      <td>1.0</td>\n",
       "      <td>True</td>\n",
       "      <td>32</td>\n",
       "    </tr>\n",
       "    <tr>\n",
       "      <th>0</th>\n",
       "      <td>128381</td>\n",
       "      <td>control</td>\n",
       "      <td>5294</td>\n",
       "      <td>2022-05-31 21:00:03</td>\n",
       "      <td>4704</td>\n",
       "      <td>2022-05-31 21:00:04</td>\n",
       "      <td>1.0</td>\n",
       "      <td>False</td>\n",
       "      <td>32</td>\n",
       "    </tr>\n",
       "    <tr>\n",
       "      <th>0</th>\n",
       "      <td>128381</td>\n",
       "      <td>control</td>\n",
       "      <td>4808</td>\n",
       "      <td>2022-05-31 21:00:03</td>\n",
       "      <td>4704</td>\n",
       "      <td>2022-05-31 21:00:04</td>\n",
       "      <td>1.0</td>\n",
       "      <td>False</td>\n",
       "      <td>32</td>\n",
       "    </tr>\n",
       "  </tbody>\n",
       "</table>\n",
       "</div>"
      ],
      "text/plain": [
       "   user_id exp_group  recommendations      timestamp_view  post_id  \\\n",
       "0   128381   control             3644 2022-05-31 21:00:03     4704   \n",
       "0   128381   control             4529 2022-05-31 21:00:03     4704   \n",
       "0   128381   control             4704 2022-05-31 21:00:03     4704   \n",
       "0   128381   control             5294 2022-05-31 21:00:03     4704   \n",
       "0   128381   control             4808 2022-05-31 21:00:03     4704   \n",
       "\n",
       "       timestamp_like  time_diff  is_valid  bucket  \n",
       "0 2022-05-31 21:00:04        1.0     False      32  \n",
       "0 2022-05-31 21:00:04        1.0     False      32  \n",
       "0 2022-05-31 21:00:04        1.0      True      32  \n",
       "0 2022-05-31 21:00:04        1.0     False      32  \n",
       "0 2022-05-31 21:00:04        1.0     False      32  "
      ]
     },
     "execution_count": 45,
     "metadata": {},
     "output_type": "execute_result"
    }
   ],
   "source": [
    "exploded[\"bucket\"] = exploded[\"user_id\"].apply(\n",
    "    lambda x: int(hashlib.md5((str(x) + \"my_salt\").encode()).hexdigest(), 16) % 100\n",
    ")\n",
    "exploded.head()"
   ]
  },
  {
   "cell_type": "code",
   "execution_count": null,
   "id": "a062a767",
   "metadata": {},
   "outputs": [
    {
     "name": "stdout",
     "output_type": "stream",
     "text": [
      "Средний hitrate: Контроль = 0.7065, Тест = 0.7201\n",
      "Разница: 0.0135\n",
      "p-value: 0.0000\n",
      "Вывод: Различие статистически значимо (p < 0.05)\n"
     ]
    }
   ],
   "source": [
    "# 1. Считаем статистики\n",
    "bucket_stats = (\n",
    "    exploded.groupby([\"user_id\", \"timestamp_view\", \"exp_group\", \"bucket\"])[\"is_valid\"]\n",
    "    .any()\n",
    "    .groupby([\"exp_group\", \"bucket\"])\n",
    "    .mean()\n",
    "    .reset_index()\n",
    "    .rename(columns={\"is_valid\": \"hitrate\"})\n",
    ")\n",
    "\n",
    "\n",
    "# 2. Разделяем данные по группам\n",
    "control = bucket_stats[bucket_stats[\"exp_group\"] == \"control\"][\"hitrate\"]\n",
    "test = bucket_stats[bucket_stats[\"exp_group\"] == \"test\"][\"hitrate\"]\n",
    "\n",
    "# 3. Статистический тест\n",
    "stat, p_value = mannwhitneyu(control, test, alternative=\"two-sided\")\n",
    "\n",
    "print(f\"Средний hitrate: Контроль = {control.mean():.4f}, Тест = {test.mean():.4f}\")\n",
    "print(f\"Разница: {test.mean() - control.mean():.4f}\")\n",
    "print(f\"p-value: {p_value:.4f}\")\n",
    "\n",
    "if p_value < 0.05:\n",
    "    print(\"Вывод: Различие статистически значимо (p < 0.05)\")\n",
    "else:\n",
    "    print(\"Вывод: Различие не значимо (p ≥ 0.05)\")"
   ]
  },
  {
   "cell_type": "code",
   "execution_count": 47,
   "id": "0c4e7b9f",
   "metadata": {},
   "outputs": [
    {
     "data": {
      "image/png": "[encoded data removed]",
      "text/plain": [
       "<Figure size 1000x500 with 1 Axes>"
      ]
     },
     "metadata": {},
     "output_type": "display_data"
    }
   ],
   "source": [
    "# 4. Визуализация распределений\n",
    "import matplotlib.pyplot as plt\n",
    "import seaborn as sns\n",
    "\n",
    "plt.figure(figsize=(10, 5))\n",
    "sns.boxplot(data=bucket_stats, x=\"exp_group\", y=\"hitrate\")\n",
    "plt.title(\"Распределение hitrate по бакетам\")\n",
    "plt.ylabel(\"Hitrate\")\n",
    "plt.xlabel(\"Группа\")\n",
    "plt.show()"
   ]
  }
 ],
 "metadata": {
  "kernelspec": {
   "display_name": "base",
   "language": "python",
   "name": "python3"
  },
  "language_info": {
   "codemirror_mode": {
    "name": "ipython",
    "version": 3
   },
   "file_extension": ".py",
   "mimetype": "text/x-python",
   "name": "python",
   "nbconvert_exporter": "python",
   "pygments_lexer": "ipython3",
   "version": "3.10.9"
  }
 },
 "nbformat": 4,
 "nbformat_minor": 5
}
